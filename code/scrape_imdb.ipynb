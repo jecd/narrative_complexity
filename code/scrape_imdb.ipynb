{
 "cells": [
  {
   "cell_type": "code",
   "execution_count": 1,
   "metadata": {},
   "outputs": [],
   "source": [
    "from imdb import IMDb\n",
    "import re\n",
    "import pandas as pd\n",
    "import os\n",
    "from IPython.display import clear_output"
   ]
  },
  {
   "cell_type": "code",
   "execution_count": 2,
   "metadata": {},
   "outputs": [],
   "source": [
    "datadir = '../data/'\n",
    "if not os.path.exists(datadir):\n",
    "   os.makedirs(datadir)"
   ]
  },
  {
   "cell_type": "code",
   "execution_count": 3,
   "metadata": {},
   "outputs": [],
   "source": [
    "errorlogfile = open(\"scrape_imdb_missinginfo.txt\",\"w\") \n",
    "datafname = 'data.csv'\n",
    "resultsfname = 'IMDBscraped.csv'\n",
    "combinedfname = 'data_wmetrics.csv'"
   ]
  },
  {
   "cell_type": "markdown",
   "metadata": {},
   "source": [
    "### Get list of movies to scrape info for"
   ]
  },
  {
   "cell_type": "code",
   "execution_count": 4,
   "metadata": {},
   "outputs": [],
   "source": [
    "data = pd.read_csv(datadir + datafname)"
   ]
  },
  {
   "cell_type": "code",
   "execution_count": 5,
   "metadata": {},
   "outputs": [
    {
     "data": {
      "text/html": [
       "<div>\n",
       "<style scoped>\n",
       "    .dataframe tbody tr th:only-of-type {\n",
       "        vertical-align: middle;\n",
       "    }\n",
       "\n",
       "    .dataframe tbody tr th {\n",
       "        vertical-align: top;\n",
       "    }\n",
       "\n",
       "    .dataframe thead th {\n",
       "        text-align: right;\n",
       "    }\n",
       "</style>\n",
       "<table border=\"1\" class=\"dataframe\">\n",
       "  <thead>\n",
       "    <tr style=\"text-align: right;\">\n",
       "      <th></th>\n",
       "      <th>id</th>\n",
       "      <th>title</th>\n",
       "      <th>url</th>\n",
       "      <th>writers</th>\n",
       "      <th>genres</th>\n",
       "      <th>script</th>\n",
       "    </tr>\n",
       "  </thead>\n",
       "  <tbody>\n",
       "    <tr>\n",
       "      <th>0</th>\n",
       "      <td>1</td>\n",
       "      <td>10 Things I Hate About You</td>\n",
       "      <td>http://www.imsdb.com/scripts/10-Things-I-Hate-...</td>\n",
       "      <td>Karen McCullah Lutz;Kirsten Smith;William Shak...</td>\n",
       "      <td>Comedy;Romance</td>\n",
       "      <td>\\n\\n\\n&lt;b&gt;&lt;!--\\n&lt;/b&gt;if (window!= top)\\ntop.loca...</td>\n",
       "    </tr>\n",
       "    <tr>\n",
       "      <th>1</th>\n",
       "      <td>2</td>\n",
       "      <td>12</td>\n",
       "      <td>http://www.imsdb.com/scripts/12.html</td>\n",
       "      <td>Lawrence Bridges</td>\n",
       "      <td>Comedy</td>\n",
       "      <td>\\n\\n  \\n  12 - Script\\n</td>\n",
       "    </tr>\n",
       "    <tr>\n",
       "      <th>2</th>\n",
       "      <td>3</td>\n",
       "      <td>12 and Holding</td>\n",
       "      <td>http://www.imsdb.com/scripts/12-and-Holding.html</td>\n",
       "      <td>Anthony Cipriano</td>\n",
       "      <td>Drama</td>\n",
       "      <td>\\n          \\n          \\n         ...</td>\n",
       "    </tr>\n",
       "    <tr>\n",
       "      <th>3</th>\n",
       "      <td>4</td>\n",
       "      <td>12 Monkeys</td>\n",
       "      <td>http://www.imsdb.com/scripts/12-Monkeys.html</td>\n",
       "      <td>David Peoples;Janet Peoples</td>\n",
       "      <td>Drama;Sci-Fi;Thriller</td>\n",
       "      <td>\\n\\n\\n&lt;b&gt;&lt;!--\\n&lt;/b&gt;if (window!= top)\\ntop.loca...</td>\n",
       "    </tr>\n",
       "    <tr>\n",
       "      <th>4</th>\n",
       "      <td>5</td>\n",
       "      <td>12 Years a Slave</td>\n",
       "      <td>http://www.imsdb.com/scripts/12-Years-a-Slave....</td>\n",
       "      <td>John Ridley</td>\n",
       "      <td>Drama</td>\n",
       "      <td>\\r\\n\\r\\n\\r\\n                             12 YE...</td>\n",
       "    </tr>\n",
       "  </tbody>\n",
       "</table>\n",
       "</div>"
      ],
      "text/plain": [
       "   id                       title  \\\n",
       "0   1  10 Things I Hate About You   \n",
       "1   2                          12   \n",
       "2   3              12 and Holding   \n",
       "3   4                  12 Monkeys   \n",
       "4   5            12 Years a Slave   \n",
       "\n",
       "                                                 url  \\\n",
       "0  http://www.imsdb.com/scripts/10-Things-I-Hate-...   \n",
       "1               http://www.imsdb.com/scripts/12.html   \n",
       "2   http://www.imsdb.com/scripts/12-and-Holding.html   \n",
       "3       http://www.imsdb.com/scripts/12-Monkeys.html   \n",
       "4  http://www.imsdb.com/scripts/12-Years-a-Slave....   \n",
       "\n",
       "                                             writers                 genres  \\\n",
       "0  Karen McCullah Lutz;Kirsten Smith;William Shak...         Comedy;Romance   \n",
       "1                                   Lawrence Bridges                 Comedy   \n",
       "2                                   Anthony Cipriano                  Drama   \n",
       "3                        David Peoples;Janet Peoples  Drama;Sci-Fi;Thriller   \n",
       "4                                        John Ridley                  Drama   \n",
       "\n",
       "                                              script  \n",
       "0  \\n\\n\\n<b><!--\\n</b>if (window!= top)\\ntop.loca...  \n",
       "1                            \\n\\n  \\n  12 - Script\\n  \n",
       "2             \\n          \\n          \\n         ...  \n",
       "3  \\n\\n\\n<b><!--\\n</b>if (window!= top)\\ntop.loca...  \n",
       "4  \\r\\n\\r\\n\\r\\n                             12 YE...  "
      ]
     },
     "execution_count": 5,
     "metadata": {},
     "output_type": "execute_result"
    }
   ],
   "source": [
    "data.head()"
   ]
  },
  {
   "cell_type": "markdown",
   "metadata": {},
   "source": [
    "### Define useful functions"
   ]
  },
  {
   "cell_type": "code",
   "execution_count": 6,
   "metadata": {},
   "outputs": [],
   "source": [
    "def get_movie_info(title, infocat, errorlog=errorlogfile):\n",
    "    i = IMDb()\n",
    "    # returns a list of movies w same or similar title; get the first for the best match\n",
    "    try:\n",
    "        movie = i.search_movie(title)[0]\n",
    "    except:\n",
    "        errorlogfile.write(title + ': Did not find movie\\n')\n",
    "        movie = []\n",
    "    # only the important information is retrieved by default, so we need to update:\n",
    "    try:\n",
    "        i.update(movie, info=infocat)\n",
    "    except:\n",
    "        errorlogfile.write(title + ': id not find movie info\\n')\n",
    "    return movie"
   ]
  },
  {
   "cell_type": "code",
   "execution_count": 7,
   "metadata": {},
   "outputs": [],
   "source": [
    "def dic_to_pandas(dictionary, keystowrite, dataframe, errorlog=errorlogfile):\n",
    "    title = str(dictionary['title'].encode('utf-8'))\n",
    "    dataframe.loc[title] = ''\n",
    "    for key in keystowrite: #just items in python 3\n",
    "        try:\n",
    "            if type(dictionary[key])== list:\n",
    "                dataframe[key][title] = [x.encode('utf-8') for x in dictionary[key]]\n",
    "            else:\n",
    "                dataframe[key][title] = dictionary[key]\n",
    "        except:\n",
    "            errorlogfile.write(title + ': Did not find ' + key + '\\n')\n",
    "            dataframe[key][title] = 'NA'\n",
    "    return dataframe"
   ]
  },
  {
   "cell_type": "markdown",
   "metadata": {},
   "source": [
    "### Define variables of interest"
   ]
  },
  {
   "cell_type": "code",
   "execution_count": 8,
   "metadata": {},
   "outputs": [
    {
     "name": "stdout",
     "output_type": "stream",
     "text": [
      "['airing', 'akas', 'alternate versions', 'awards', 'connections', 'crazy credits', 'critic reviews', 'episodes', 'external reviews', 'external sites', 'faqs', 'full credits', 'goofs', 'keywords', 'locations', 'main', 'misc sites', 'news', 'official sites', 'parents guide', 'photo sites', 'plot', 'quotes', 'release dates', 'release info', 'reviews', 'sound clips', 'soundtrack', 'synopsis', 'taglines', 'technical', 'trivia', 'tv schedule', 'video clips', 'vote details']\n"
     ]
    }
   ],
   "source": [
    "i = IMDb()\n",
    "infocat = i.get_movie_infoset() # will get all available info\n",
    "infocat = [str(x) for x in infocat]\n",
    "print infocat"
   ]
  },
  {
   "cell_type": "code",
   "execution_count": 9,
   "metadata": {},
   "outputs": [],
   "source": [
    "infocat = ['critic reviews', 'locations',\n",
    "          'vote details', 'keywords', 'plot', 'main']"
   ]
  },
  {
   "cell_type": "code",
   "execution_count": 10,
   "metadata": {},
   "outputs": [],
   "source": [
    "infolist = ['metascore', 'locations', \n",
    "            'arithmetic mean', 'median', 'number of votes',\n",
    "            'keywords', 'plot', 'rating', 'year', 'votes', \n",
    "            'title', 'genres', 'original air date', 'box office']"
   ]
  },
  {
   "cell_type": "markdown",
   "metadata": {},
   "source": [
    "### Test scraping on a toy example"
   ]
  },
  {
   "cell_type": "code",
   "execution_count": 11,
   "metadata": {},
   "outputs": [],
   "source": [
    "title = 'Alien 3'"
   ]
  },
  {
   "cell_type": "code",
   "execution_count": 12,
   "metadata": {},
   "outputs": [],
   "source": [
    "test = get_movie_info(title, infocat)"
   ]
  },
  {
   "cell_type": "code",
   "execution_count": 13,
   "metadata": {},
   "outputs": [
    {
     "name": "stdout",
     "output_type": "stream",
     "text": [
      "{'plot': [u'plot', u'synopsis'], 'critic reviews': [u'metacritic url', u'metascore'], 'locations': [u'locations'], 'vote details': [u'arithmetic mean', u'demographics', u'median', u'number of votes'], 'keywords': [u'keywords'], 'main': [u'production managers', u'rating', u'special effects companies', u'distributors', u'music department', u'runtimes', u'special effects', u'thanks', u'year', u'production companies', u'color info', u'composers', u'costume designers', u'votes', u'visual effects', u'title', u'writer', u'editors', u'languages', u'cinematographers', u'writers', u'camera department', u'certificates', u'country codes', u'language codes', u'cover url', u'director', u'casting department', u'editorial department', u'assistant directors', u'sound mix', u'location management', u'genres', u'miscellaneous', u'producers', u'animation department', u'set decorators', u'original air date', u'costume departmen', u'akas', u'aspect ratio', u'sound department', u'stunts', u'kind', u'make up department', u'other companies', u'art department', u'countries', u'transportation department', u'plot outline', u'cast', u'directors', u'art directors', u'production designers', u'box office']}\n"
     ]
    }
   ],
   "source": [
    "print(test.infoset2keys)"
   ]
  },
  {
   "cell_type": "code",
   "execution_count": 14,
   "metadata": {},
   "outputs": [],
   "source": [
    "df = pd.DataFrame(columns=infolist)"
   ]
  },
  {
   "cell_type": "code",
   "execution_count": 15,
   "metadata": {},
   "outputs": [
    {
     "data": {
      "text/html": [
       "<div>\n",
       "<style scoped>\n",
       "    .dataframe tbody tr th:only-of-type {\n",
       "        vertical-align: middle;\n",
       "    }\n",
       "\n",
       "    .dataframe tbody tr th {\n",
       "        vertical-align: top;\n",
       "    }\n",
       "\n",
       "    .dataframe thead th {\n",
       "        text-align: right;\n",
       "    }\n",
       "</style>\n",
       "<table border=\"1\" class=\"dataframe\">\n",
       "  <thead>\n",
       "    <tr style=\"text-align: right;\">\n",
       "      <th></th>\n",
       "      <th>metascore</th>\n",
       "      <th>locations</th>\n",
       "      <th>arithmetic mean</th>\n",
       "      <th>median</th>\n",
       "      <th>number of votes</th>\n",
       "      <th>keywords</th>\n",
       "      <th>plot</th>\n",
       "      <th>rating</th>\n",
       "      <th>year</th>\n",
       "      <th>votes</th>\n",
       "      <th>title</th>\n",
       "      <th>genres</th>\n",
       "      <th>original air date</th>\n",
       "      <th>box office</th>\n",
       "    </tr>\n",
       "  </thead>\n",
       "  <tbody>\n",
       "    <tr>\n",
       "      <th>Alien³</th>\n",
       "      <td>59</td>\n",
       "      <td>[Blyth Power Station, Northumberland, England,...</td>\n",
       "      <td>6.3</td>\n",
       "      <td>7</td>\n",
       "      <td>{1: 8042, 2: 6221, 3: 8419, 4: 13436, 5: 28615...</td>\n",
       "      <td>[alien, prison, android, cryogenics, cult-film...</td>\n",
       "      <td>[After her last encounter, Ellen Ripley crash-...</td>\n",
       "      <td>6.5</td>\n",
       "      <td>1992</td>\n",
       "      <td>257624</td>\n",
       "      <td>Alien³</td>\n",
       "      <td>[Action, Horror, Sci-Fi]</td>\n",
       "      <td>22 May 1992 (USA)</td>\n",
       "      <td>{u'Opening Weekend United States': u'$23,141,1...</td>\n",
       "    </tr>\n",
       "  </tbody>\n",
       "</table>\n",
       "</div>"
      ],
      "text/plain": [
       "       metascore                                          locations  \\\n",
       "Alien³        59  [Blyth Power Station, Northumberland, England,...   \n",
       "\n",
       "       arithmetic mean median  \\\n",
       "Alien³             6.3      7   \n",
       "\n",
       "                                          number of votes  \\\n",
       "Alien³  {1: 8042, 2: 6221, 3: 8419, 4: 13436, 5: 28615...   \n",
       "\n",
       "                                                 keywords  \\\n",
       "Alien³  [alien, prison, android, cryogenics, cult-film...   \n",
       "\n",
       "                                                     plot rating  year  \\\n",
       "Alien³  [After her last encounter, Ellen Ripley crash-...    6.5  1992   \n",
       "\n",
       "         votes   title                    genres  original air date  \\\n",
       "Alien³  257624  Alien³  [Action, Horror, Sci-Fi]  22 May 1992 (USA)   \n",
       "\n",
       "                                               box office  \n",
       "Alien³  {u'Opening Weekend United States': u'$23,141,1...  "
      ]
     },
     "execution_count": 15,
     "metadata": {},
     "output_type": "execute_result"
    }
   ],
   "source": [
    "dic_to_pandas(test, infolist, df)\n",
    "pd.DataFrame.to_csv(df, '../data/test.csv', encoding = 'utf-8')\n",
    "df.head()"
   ]
  },
  {
   "cell_type": "markdown",
   "metadata": {},
   "source": [
    "### Scrape movies"
   ]
  },
  {
   "cell_type": "code",
   "execution_count": 16,
   "metadata": {},
   "outputs": [],
   "source": [
    "titles = data.title\n",
    "df = pd.DataFrame(columns=infolist)"
   ]
  },
  {
   "cell_type": "code",
   "execution_count": 17,
   "metadata": {},
   "outputs": [
    {
     "data": {
      "text/plain": [
       "1118"
      ]
     },
     "execution_count": 17,
     "metadata": {},
     "output_type": "execute_result"
    }
   ],
   "source": [
    "len(titles)"
   ]
  },
  {
   "cell_type": "code",
   "execution_count": 18,
   "metadata": {},
   "outputs": [
    {
     "name": "stdout",
     "output_type": "stream",
     "text": [
      "100% completed\n"
     ]
    }
   ],
   "source": [
    "for i, title in enumerate(titles):\n",
    "    print('currently scraping ' + title)\n",
    "    fetchedinfo = get_movie_info(title, infocat)\n",
    "    if len(fetchedinfo) > 0:\n",
    "        df = dic_to_pandas(fetchedinfo, infolist, df)\n",
    "        clear_output(wait=True)\n",
    "        print(str((i+1)*100/len(titles)) + '% completed'); "
   ]
  },
  {
   "cell_type": "code",
   "execution_count": 19,
   "metadata": {},
   "outputs": [
    {
     "data": {
      "text/html": [
       "<div>\n",
       "<style scoped>\n",
       "    .dataframe tbody tr th:only-of-type {\n",
       "        vertical-align: middle;\n",
       "    }\n",
       "\n",
       "    .dataframe tbody tr th {\n",
       "        vertical-align: top;\n",
       "    }\n",
       "\n",
       "    .dataframe thead th {\n",
       "        text-align: right;\n",
       "    }\n",
       "</style>\n",
       "<table border=\"1\" class=\"dataframe\">\n",
       "  <thead>\n",
       "    <tr style=\"text-align: right;\">\n",
       "      <th></th>\n",
       "      <th>metascore</th>\n",
       "      <th>locations</th>\n",
       "      <th>arithmetic mean</th>\n",
       "      <th>median</th>\n",
       "      <th>number of votes</th>\n",
       "      <th>keywords</th>\n",
       "      <th>plot</th>\n",
       "      <th>rating</th>\n",
       "      <th>year</th>\n",
       "      <th>votes</th>\n",
       "      <th>title</th>\n",
       "      <th>genres</th>\n",
       "      <th>original air date</th>\n",
       "      <th>box office</th>\n",
       "    </tr>\n",
       "  </thead>\n",
       "  <tbody>\n",
       "    <tr>\n",
       "      <th>0</th>\n",
       "      <td>70</td>\n",
       "      <td>[Stadium High School - 111 N. E Street, Tacoma...</td>\n",
       "      <td>7.5</td>\n",
       "      <td>7</td>\n",
       "      <td>{1: 1652, 2: 1429, 3: 2456, 4: 5244, 5: 14191,...</td>\n",
       "      <td>[protective-father, dating, shakespeare-adapta...</td>\n",
       "      <td>[A pretty, popular teenager can't go out on a ...</td>\n",
       "      <td>7.3</td>\n",
       "      <td>1999</td>\n",
       "      <td>272400</td>\n",
       "      <td>10 Things I Hate About You</td>\n",
       "      <td>[Comedy, Drama, Romance]</td>\n",
       "      <td>31 Mar 1999 (USA)</td>\n",
       "      <td>{u'Opening Weekend United States': u'$8,330,68...</td>\n",
       "    </tr>\n",
       "    <tr>\n",
       "      <th>1</th>\n",
       "      <td>22</td>\n",
       "      <td>[New York City, New York, USA, Studio City, Lo...</td>\n",
       "      <td>6</td>\n",
       "      <td>6</td>\n",
       "      <td>{1: 517, 2: 382, 3: 611, 4: 1050, 5: 1967, 6: ...</td>\n",
       "      <td>[younger-version-of-character, murder, generat...</td>\n",
       "      <td>[A young drug dealer watches as his high-rolli...</td>\n",
       "      <td>5.7</td>\n",
       "      <td>2010</td>\n",
       "      <td>11574</td>\n",
       "      <td>Twelve</td>\n",
       "      <td>[Action, Crime, Drama, Thriller]</td>\n",
       "      <td>06 Aug 2010 (USA)</td>\n",
       "      <td>{u'Opening Weekend United States': u'$110,238,...</td>\n",
       "    </tr>\n",
       "    <tr>\n",
       "      <th>2</th>\n",
       "      <td>65</td>\n",
       "      <td>[Rochelle Park, New Jersey, USA, Haledon, New ...</td>\n",
       "      <td>7.7</td>\n",
       "      <td>8</td>\n",
       "      <td>{1: 79, 2: 31, 3: 56, 4: 69, 5: 226, 6: 610, 7...</td>\n",
       "      <td>[male-objectification, shirtless-wood-chopping...</td>\n",
       "      <td>[After his twin brother is accidentally killed...</td>\n",
       "      <td>7.5</td>\n",
       "      <td>2005</td>\n",
       "      <td>6510</td>\n",
       "      <td>12 and Holding</td>\n",
       "      <td>[Drama]</td>\n",
       "      <td>07 Jul 2006 (Sweden)</td>\n",
       "      <td>{u'Opening Weekend United States': u'$11,456, ...</td>\n",
       "    </tr>\n",
       "    <tr>\n",
       "      <th>3</th>\n",
       "      <td>74</td>\n",
       "      <td>[Eastern State Penitentiary - 2124 Fairmont Av...</td>\n",
       "      <td>8</td>\n",
       "      <td>8</td>\n",
       "      <td>{1: 4087, 2: 2108, 3: 3096, 4: 5576, 5: 12496,...</td>\n",
       "      <td>[time-travel, virus, mental-institution, under...</td>\n",
       "      <td>[In a future world devastated by disease, a co...</td>\n",
       "      <td>8</td>\n",
       "      <td>1995</td>\n",
       "      <td>542681</td>\n",
       "      <td>Twelve Monkeys</td>\n",
       "      <td>[Mystery, Sci-Fi, Thriller]</td>\n",
       "      <td>05 Jan 1996 (USA)</td>\n",
       "      <td>{u'Opening Weekend United States': u'$14,200,0...</td>\n",
       "    </tr>\n",
       "    <tr>\n",
       "      <th>4</th>\n",
       "      <td>96</td>\n",
       "      <td>[Madame John's Legacy, the French Quarter, New...</td>\n",
       "      <td>8.1</td>\n",
       "      <td>8</td>\n",
       "      <td>{1: 5391, 2: 2109, 3: 2798, 4: 4659, 5: 11224,...</td>\n",
       "      <td>[torture, kidnapping, racism, whipping, slaver...</td>\n",
       "      <td>[In the antebellum United States, Solomon Nort...</td>\n",
       "      <td>8.1</td>\n",
       "      <td>2013</td>\n",
       "      <td>582921</td>\n",
       "      <td>12 Years a Slave</td>\n",
       "      <td>[Biography, Drama, History]</td>\n",
       "      <td>08 Nov 2013 (USA)</td>\n",
       "      <td>{u'Opening Weekend United States': u'$923,715,...</td>\n",
       "    </tr>\n",
       "  </tbody>\n",
       "</table>\n",
       "</div>"
      ],
      "text/plain": [
       "  metascore                                          locations  \\\n",
       "0        70  [Stadium High School - 111 N. E Street, Tacoma...   \n",
       "1        22  [New York City, New York, USA, Studio City, Lo...   \n",
       "2        65  [Rochelle Park, New Jersey, USA, Haledon, New ...   \n",
       "3        74  [Eastern State Penitentiary - 2124 Fairmont Av...   \n",
       "4        96  [Madame John's Legacy, the French Quarter, New...   \n",
       "\n",
       "  arithmetic mean median                                    number of votes  \\\n",
       "0             7.5      7  {1: 1652, 2: 1429, 3: 2456, 4: 5244, 5: 14191,...   \n",
       "1               6      6  {1: 517, 2: 382, 3: 611, 4: 1050, 5: 1967, 6: ...   \n",
       "2             7.7      8  {1: 79, 2: 31, 3: 56, 4: 69, 5: 226, 6: 610, 7...   \n",
       "3               8      8  {1: 4087, 2: 2108, 3: 3096, 4: 5576, 5: 12496,...   \n",
       "4             8.1      8  {1: 5391, 2: 2109, 3: 2798, 4: 4659, 5: 11224,...   \n",
       "\n",
       "                                            keywords  \\\n",
       "0  [protective-father, dating, shakespeare-adapta...   \n",
       "1  [younger-version-of-character, murder, generat...   \n",
       "2  [male-objectification, shirtless-wood-chopping...   \n",
       "3  [time-travel, virus, mental-institution, under...   \n",
       "4  [torture, kidnapping, racism, whipping, slaver...   \n",
       "\n",
       "                                                plot rating  year   votes  \\\n",
       "0  [A pretty, popular teenager can't go out on a ...    7.3  1999  272400   \n",
       "1  [A young drug dealer watches as his high-rolli...    5.7  2010   11574   \n",
       "2  [After his twin brother is accidentally killed...    7.5  2005    6510   \n",
       "3  [In a future world devastated by disease, a co...      8  1995  542681   \n",
       "4  [In the antebellum United States, Solomon Nort...    8.1  2013  582921   \n",
       "\n",
       "                        title                            genres  \\\n",
       "0  10 Things I Hate About You          [Comedy, Drama, Romance]   \n",
       "1                      Twelve  [Action, Crime, Drama, Thriller]   \n",
       "2              12 and Holding                           [Drama]   \n",
       "3              Twelve Monkeys       [Mystery, Sci-Fi, Thriller]   \n",
       "4            12 Years a Slave       [Biography, Drama, History]   \n",
       "\n",
       "      original air date                                         box office  \n",
       "0     31 Mar 1999 (USA)  {u'Opening Weekend United States': u'$8,330,68...  \n",
       "1     06 Aug 2010 (USA)  {u'Opening Weekend United States': u'$110,238,...  \n",
       "2  07 Jul 2006 (Sweden)  {u'Opening Weekend United States': u'$11,456, ...  \n",
       "3     05 Jan 1996 (USA)  {u'Opening Weekend United States': u'$14,200,0...  \n",
       "4     08 Nov 2013 (USA)  {u'Opening Weekend United States': u'$923,715,...  "
      ]
     },
     "execution_count": 19,
     "metadata": {},
     "output_type": "execute_result"
    }
   ],
   "source": [
    "df = df.reset_index(drop=True)\n",
    "df.head()"
   ]
  },
  {
   "cell_type": "code",
   "execution_count": 20,
   "metadata": {},
   "outputs": [],
   "source": [
    "pd.DataFrame.to_csv(df, datadir + resultsfname, encoding = 'utf-8', index=False)"
   ]
  },
  {
   "cell_type": "code",
   "execution_count": 21,
   "metadata": {},
   "outputs": [],
   "source": [
    "df = df.rename(columns={\"genres\": \"genres_imbd\"})#, \"title\": \"title_imbd\"})\n",
    "data = data.rename(columns={\"genres\": \"genres_imsbd\"})#, \"title\": \"title_imsbd\"})"
   ]
  },
  {
   "cell_type": "code",
   "execution_count": 22,
   "metadata": {},
   "outputs": [
    {
     "data": {
      "text/html": [
       "<div>\n",
       "<style scoped>\n",
       "    .dataframe tbody tr th:only-of-type {\n",
       "        vertical-align: middle;\n",
       "    }\n",
       "\n",
       "    .dataframe tbody tr th {\n",
       "        vertical-align: top;\n",
       "    }\n",
       "\n",
       "    .dataframe thead th {\n",
       "        text-align: right;\n",
       "    }\n",
       "</style>\n",
       "<table border=\"1\" class=\"dataframe\">\n",
       "  <thead>\n",
       "    <tr style=\"text-align: right;\">\n",
       "      <th></th>\n",
       "      <th>metascore</th>\n",
       "      <th>locations</th>\n",
       "      <th>arithmetic mean</th>\n",
       "      <th>median</th>\n",
       "      <th>number of votes</th>\n",
       "      <th>keywords</th>\n",
       "      <th>plot</th>\n",
       "      <th>rating</th>\n",
       "      <th>year</th>\n",
       "      <th>votes</th>\n",
       "      <th>title</th>\n",
       "      <th>genres_imbd</th>\n",
       "      <th>original air date</th>\n",
       "      <th>box office</th>\n",
       "      <th>id</th>\n",
       "      <th>url</th>\n",
       "      <th>writers</th>\n",
       "      <th>genres_imsbd</th>\n",
       "      <th>script</th>\n",
       "    </tr>\n",
       "  </thead>\n",
       "  <tbody>\n",
       "    <tr>\n",
       "      <th>0</th>\n",
       "      <td>70</td>\n",
       "      <td>[Stadium High School - 111 N. E Street, Tacoma...</td>\n",
       "      <td>7.5</td>\n",
       "      <td>7</td>\n",
       "      <td>{1: 1652, 2: 1429, 3: 2456, 4: 5244, 5: 14191,...</td>\n",
       "      <td>[protective-father, dating, shakespeare-adapta...</td>\n",
       "      <td>[A pretty, popular teenager can't go out on a ...</td>\n",
       "      <td>7.3</td>\n",
       "      <td>1999</td>\n",
       "      <td>272400</td>\n",
       "      <td>10 Things I Hate About You</td>\n",
       "      <td>[Comedy, Drama, Romance]</td>\n",
       "      <td>31 Mar 1999 (USA)</td>\n",
       "      <td>{u'Opening Weekend United States': u'$8,330,68...</td>\n",
       "      <td>1</td>\n",
       "      <td>http://www.imsdb.com/scripts/10-Things-I-Hate-...</td>\n",
       "      <td>Karen McCullah Lutz;Kirsten Smith;William Shak...</td>\n",
       "      <td>Comedy;Romance</td>\n",
       "      <td>\\n\\n\\n&lt;b&gt;&lt;!--\\n&lt;/b&gt;if (window!= top)\\ntop.loca...</td>\n",
       "    </tr>\n",
       "    <tr>\n",
       "      <th>1</th>\n",
       "      <td>65</td>\n",
       "      <td>[Rochelle Park, New Jersey, USA, Haledon, New ...</td>\n",
       "      <td>7.7</td>\n",
       "      <td>8</td>\n",
       "      <td>{1: 79, 2: 31, 3: 56, 4: 69, 5: 226, 6: 610, 7...</td>\n",
       "      <td>[male-objectification, shirtless-wood-chopping...</td>\n",
       "      <td>[After his twin brother is accidentally killed...</td>\n",
       "      <td>7.5</td>\n",
       "      <td>2005</td>\n",
       "      <td>6510</td>\n",
       "      <td>12 and Holding</td>\n",
       "      <td>[Drama]</td>\n",
       "      <td>07 Jul 2006 (Sweden)</td>\n",
       "      <td>{u'Opening Weekend United States': u'$11,456, ...</td>\n",
       "      <td>3</td>\n",
       "      <td>http://www.imsdb.com/scripts/12-and-Holding.html</td>\n",
       "      <td>Anthony Cipriano</td>\n",
       "      <td>Drama</td>\n",
       "      <td>\\n          \\n          \\n         ...</td>\n",
       "    </tr>\n",
       "    <tr>\n",
       "      <th>2</th>\n",
       "      <td>96</td>\n",
       "      <td>[Madame John's Legacy, the French Quarter, New...</td>\n",
       "      <td>8.1</td>\n",
       "      <td>8</td>\n",
       "      <td>{1: 5391, 2: 2109, 3: 2798, 4: 4659, 5: 11224,...</td>\n",
       "      <td>[torture, kidnapping, racism, whipping, slaver...</td>\n",
       "      <td>[In the antebellum United States, Solomon Nort...</td>\n",
       "      <td>8.1</td>\n",
       "      <td>2013</td>\n",
       "      <td>582921</td>\n",
       "      <td>12 Years a Slave</td>\n",
       "      <td>[Biography, Drama, History]</td>\n",
       "      <td>08 Nov 2013 (USA)</td>\n",
       "      <td>{u'Opening Weekend United States': u'$923,715,...</td>\n",
       "      <td>5</td>\n",
       "      <td>http://www.imsdb.com/scripts/12-Years-a-Slave....</td>\n",
       "      <td>John Ridley</td>\n",
       "      <td>Drama</td>\n",
       "      <td>\\r\\n\\r\\n\\r\\n                             12 YE...</td>\n",
       "    </tr>\n",
       "    <tr>\n",
       "      <th>3</th>\n",
       "      <td>82</td>\n",
       "      <td>[Moab, Utah, USA, Utah, USA, USA]</td>\n",
       "      <td>7.6</td>\n",
       "      <td>8</td>\n",
       "      <td>{1: 2231, 2: 1258, 3: 2112, 4: 4158, 5: 10471,...</td>\n",
       "      <td>[survival, alone, based-on-autobiography, aron...</td>\n",
       "      <td>[An adventurous mountain climber becomes trapp...</td>\n",
       "      <td>7.6</td>\n",
       "      <td>2010</td>\n",
       "      <td>326676</td>\n",
       "      <td>127 Hours</td>\n",
       "      <td>[Biography, Drama]</td>\n",
       "      <td>28 Jan 2011 (USA)</td>\n",
       "      <td>{u'Opening Weekend United States': u'$264,851,...</td>\n",
       "      <td>6</td>\n",
       "      <td>http://www.imsdb.com/scripts/127-Hours.html</td>\n",
       "      <td>Simon Beaufoy;Danny Boyle</td>\n",
       "      <td>Adventure;Drama;Thriller</td>\n",
       "      <td>\\r\\n\\r\\n \\r\\n                                 ...</td>\n",
       "    </tr>\n",
       "    <tr>\n",
       "      <th>4</th>\n",
       "      <td>47</td>\n",
       "      <td>[Playa Herradura, Puntarenas, Costa Rica, Pine...</td>\n",
       "      <td>6.5</td>\n",
       "      <td>7</td>\n",
       "      <td>{1: 534, 2: 283, 3: 598, 4: 1268, 5: 3011, 6: ...</td>\n",
       "      <td>[new-world, renaissance, year-1492, caribbean,...</td>\n",
       "      <td>[Christopher Columbus' discovery of the Americ...</td>\n",
       "      <td>6.5</td>\n",
       "      <td>1992</td>\n",
       "      <td>26326</td>\n",
       "      <td>1492: Conquest of Paradise</td>\n",
       "      <td>[Adventure, Biography, Drama, History]</td>\n",
       "      <td>09 Oct 1992 (USA)</td>\n",
       "      <td>{u'Budget': u'$47,000,000 (estimated)', u'Cumu...</td>\n",
       "      <td>7</td>\n",
       "      <td>http://www.imsdb.com/scripts/1492-Conquest-of-...</td>\n",
       "      <td>Roslyne Bosch</td>\n",
       "      <td>Adventure;Drama</td>\n",
       "      <td>\\n\\n\\n&lt;b&gt;&lt;!--\\n&lt;/b&gt;if (window!= top)\\ntop.loca...</td>\n",
       "    </tr>\n",
       "  </tbody>\n",
       "</table>\n",
       "</div>"
      ],
      "text/plain": [
       "  metascore                                          locations  \\\n",
       "0        70  [Stadium High School - 111 N. E Street, Tacoma...   \n",
       "1        65  [Rochelle Park, New Jersey, USA, Haledon, New ...   \n",
       "2        96  [Madame John's Legacy, the French Quarter, New...   \n",
       "3        82                  [Moab, Utah, USA, Utah, USA, USA]   \n",
       "4        47  [Playa Herradura, Puntarenas, Costa Rica, Pine...   \n",
       "\n",
       "  arithmetic mean median                                    number of votes  \\\n",
       "0             7.5      7  {1: 1652, 2: 1429, 3: 2456, 4: 5244, 5: 14191,...   \n",
       "1             7.7      8  {1: 79, 2: 31, 3: 56, 4: 69, 5: 226, 6: 610, 7...   \n",
       "2             8.1      8  {1: 5391, 2: 2109, 3: 2798, 4: 4659, 5: 11224,...   \n",
       "3             7.6      8  {1: 2231, 2: 1258, 3: 2112, 4: 4158, 5: 10471,...   \n",
       "4             6.5      7  {1: 534, 2: 283, 3: 598, 4: 1268, 5: 3011, 6: ...   \n",
       "\n",
       "                                            keywords  \\\n",
       "0  [protective-father, dating, shakespeare-adapta...   \n",
       "1  [male-objectification, shirtless-wood-chopping...   \n",
       "2  [torture, kidnapping, racism, whipping, slaver...   \n",
       "3  [survival, alone, based-on-autobiography, aron...   \n",
       "4  [new-world, renaissance, year-1492, caribbean,...   \n",
       "\n",
       "                                                plot rating  year   votes  \\\n",
       "0  [A pretty, popular teenager can't go out on a ...    7.3  1999  272400   \n",
       "1  [After his twin brother is accidentally killed...    7.5  2005    6510   \n",
       "2  [In the antebellum United States, Solomon Nort...    8.1  2013  582921   \n",
       "3  [An adventurous mountain climber becomes trapp...    7.6  2010  326676   \n",
       "4  [Christopher Columbus' discovery of the Americ...    6.5  1992   26326   \n",
       "\n",
       "                        title                             genres_imbd  \\\n",
       "0  10 Things I Hate About You                [Comedy, Drama, Romance]   \n",
       "1              12 and Holding                                 [Drama]   \n",
       "2            12 Years a Slave             [Biography, Drama, History]   \n",
       "3                   127 Hours                      [Biography, Drama]   \n",
       "4  1492: Conquest of Paradise  [Adventure, Biography, Drama, History]   \n",
       "\n",
       "      original air date                                         box office  \\\n",
       "0     31 Mar 1999 (USA)  {u'Opening Weekend United States': u'$8,330,68...   \n",
       "1  07 Jul 2006 (Sweden)  {u'Opening Weekend United States': u'$11,456, ...   \n",
       "2     08 Nov 2013 (USA)  {u'Opening Weekend United States': u'$923,715,...   \n",
       "3     28 Jan 2011 (USA)  {u'Opening Weekend United States': u'$264,851,...   \n",
       "4     09 Oct 1992 (USA)  {u'Budget': u'$47,000,000 (estimated)', u'Cumu...   \n",
       "\n",
       "   id                                                url  \\\n",
       "0   1  http://www.imsdb.com/scripts/10-Things-I-Hate-...   \n",
       "1   3   http://www.imsdb.com/scripts/12-and-Holding.html   \n",
       "2   5  http://www.imsdb.com/scripts/12-Years-a-Slave....   \n",
       "3   6        http://www.imsdb.com/scripts/127-Hours.html   \n",
       "4   7  http://www.imsdb.com/scripts/1492-Conquest-of-...   \n",
       "\n",
       "                                             writers  \\\n",
       "0  Karen McCullah Lutz;Kirsten Smith;William Shak...   \n",
       "1                                   Anthony Cipriano   \n",
       "2                                        John Ridley   \n",
       "3                          Simon Beaufoy;Danny Boyle   \n",
       "4                                      Roslyne Bosch   \n",
       "\n",
       "               genres_imsbd                                             script  \n",
       "0            Comedy;Romance  \\n\\n\\n<b><!--\\n</b>if (window!= top)\\ntop.loca...  \n",
       "1                     Drama             \\n          \\n          \\n         ...  \n",
       "2                     Drama  \\r\\n\\r\\n\\r\\n                             12 YE...  \n",
       "3  Adventure;Drama;Thriller  \\r\\n\\r\\n \\r\\n                                 ...  \n",
       "4           Adventure;Drama  \\n\\n\\n<b><!--\\n</b>if (window!= top)\\ntop.loca...  "
      ]
     },
     "execution_count": 22,
     "metadata": {},
     "output_type": "execute_result"
    }
   ],
   "source": [
    "result = pd.merge(df, data, on='title')\n",
    "result.head()"
   ]
  },
  {
   "cell_type": "code",
   "execution_count": 23,
   "metadata": {},
   "outputs": [],
   "source": [
    "pd.DataFrame.to_csv(result, datadir+combinedfname, encoding = 'utf-8', index=False)"
   ]
  }
 ],
 "metadata": {
  "kernelspec": {
   "display_name": "Python 2",
   "language": "python",
   "name": "python2"
  },
  "language_info": {
   "codemirror_mode": {
    "name": "ipython",
    "version": 2
   },
   "file_extension": ".py",
   "mimetype": "text/x-python",
   "name": "python",
   "nbconvert_exporter": "python",
   "pygments_lexer": "ipython2",
   "version": "2.7.15"
  }
 },
 "nbformat": 4,
 "nbformat_minor": 2
}
